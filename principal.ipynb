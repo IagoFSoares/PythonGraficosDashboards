{
 "cells": [
  {
   "cell_type": "code",
   "execution_count": 5,
   "id": "f2f11bd3-a917-4dd4-9798-51cc1cb7dc15",
   "metadata": {},
   "outputs": [
    {
     "ename": "IndentationError",
     "evalue": "unexpected indent (Temp/ipykernel_15284/4273974141.py, line 3)",
     "output_type": "error",
     "traceback": [
      "\u001b[1;36m  File \u001b[1;32m\"C:\\Users\\ADMIN\\AppData\\Local\\Temp/ipykernel_15284/4273974141.py\"\u001b[1;36m, line \u001b[1;32m3\u001b[0m\n\u001b[1;33m    palavra_regex = re.compile(r'[\\w']+\u001b[0m\n\u001b[1;37m    ^\u001b[0m\n\u001b[1;31mIndentationError\u001b[0m\u001b[1;31m:\u001b[0m unexpected indent\n"
     ]
    }
   ],
   "source": [
    "from mrjob.job import MRJob\n",
    "import re\n",
    " palavra_regex = re.compile(r'[\\w']+\n",
    " class QuantidadePalavras(MRJob):\n",
    "     def mapper(self, _, linha):\n",
    "         for p in palavra_regex.findall(linha):\n",
    "             yield p.lower(), 1\n",
    " \n",
    "     def reducer(self, p, qtd):\n",
    "         yield p, sum(qtd)\n",
    " if __name__ == '__main__':\n",
    "     QuantidadePalavras.run()"
   ]
  },
  {
   "cell_type": "code",
   "execution_count": null,
   "id": "bcb1ce45-d2b7-496f-994d-ca92b2a5a3f9",
   "metadata": {},
   "outputs": [],
   "source": []
  }
 ],
 "metadata": {
  "kernelspec": {
   "display_name": "Python 3 (ipykernel)",
   "language": "python",
   "name": "python3"
  },
  "language_info": {
   "codemirror_mode": {
    "name": "ipython",
    "version": 3
   },
   "file_extension": ".py",
   "mimetype": "text/x-python",
   "name": "python",
   "nbconvert_exporter": "python",
   "pygments_lexer": "ipython3",
   "version": "3.9.7"
  }
 },
 "nbformat": 4,
 "nbformat_minor": 5
}
